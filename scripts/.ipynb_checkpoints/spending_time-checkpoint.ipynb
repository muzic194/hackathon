{
 "cells": [
  {
   "cell_type": "code",
   "execution_count": 1,
   "metadata": {},
   "outputs": [],
   "source": [
    "import pandas as pd\n",
    "import re"
   ]
  },
  {
   "cell_type": "code",
   "execution_count": 2,
   "metadata": {},
   "outputs": [],
   "source": [
    "merged_popular_times = pd.read_pickle('../data/merged_popular_times.pkl')"
   ]
  },
  {
   "cell_type": "code",
   "execution_count": 3,
   "metadata": {},
   "outputs": [
    {
     "data": {
      "text/html": [
       "<div>\n",
       "<style scoped>\n",
       "    .dataframe tbody tr th:only-of-type {\n",
       "        vertical-align: middle;\n",
       "    }\n",
       "\n",
       "    .dataframe tbody tr th {\n",
       "        vertical-align: top;\n",
       "    }\n",
       "\n",
       "    .dataframe thead th {\n",
       "        text-align: right;\n",
       "    }\n",
       "</style>\n",
       "<table border=\"1\" class=\"dataframe\">\n",
       "  <thead>\n",
       "    <tr style=\"text-align: right;\">\n",
       "      <th></th>\n",
       "      <th>place_id</th>\n",
       "      <th>hour</th>\n",
       "      <th>occupancy_index</th>\n",
       "      <th>occupancy_text</th>\n",
       "      <th>day</th>\n",
       "      <th>av_time_spent</th>\n",
       "      <th>name</th>\n",
       "      <th>vicinity</th>\n",
       "    </tr>\n",
       "  </thead>\n",
       "  <tbody>\n",
       "    <tr>\n",
       "      <td>0</td>\n",
       "      <td>ChIJlwzAaZktGUcR1xSkeOSzTjQ</td>\n",
       "      <td>6</td>\n",
       "      <td>0</td>\n",
       "      <td>NaN</td>\n",
       "      <td>Sunday</td>\n",
       "      <td>People typically spend 10 min here</td>\n",
       "      <td>Piekarnia Grzybki</td>\n",
       "      <td>Aleja Komisji Edukacji Narodowej 11, Warszawa</td>\n",
       "    </tr>\n",
       "    <tr>\n",
       "      <td>1</td>\n",
       "      <td>ChIJlwzAaZktGUcR1xSkeOSzTjQ</td>\n",
       "      <td>7</td>\n",
       "      <td>0</td>\n",
       "      <td>NaN</td>\n",
       "      <td>Sunday</td>\n",
       "      <td>People typically spend 10 min here</td>\n",
       "      <td>Piekarnia Grzybki</td>\n",
       "      <td>Aleja Komisji Edukacji Narodowej 11, Warszawa</td>\n",
       "    </tr>\n",
       "    <tr>\n",
       "      <td>2</td>\n",
       "      <td>ChIJlwzAaZktGUcR1xSkeOSzTjQ</td>\n",
       "      <td>8</td>\n",
       "      <td>0</td>\n",
       "      <td>NaN</td>\n",
       "      <td>Sunday</td>\n",
       "      <td>People typically spend 10 min here</td>\n",
       "      <td>Piekarnia Grzybki</td>\n",
       "      <td>Aleja Komisji Edukacji Narodowej 11, Warszawa</td>\n",
       "    </tr>\n",
       "    <tr>\n",
       "      <td>3</td>\n",
       "      <td>ChIJlwzAaZktGUcR1xSkeOSzTjQ</td>\n",
       "      <td>9</td>\n",
       "      <td>0</td>\n",
       "      <td>NaN</td>\n",
       "      <td>Sunday</td>\n",
       "      <td>People typically spend 10 min here</td>\n",
       "      <td>Piekarnia Grzybki</td>\n",
       "      <td>Aleja Komisji Edukacji Narodowej 11, Warszawa</td>\n",
       "    </tr>\n",
       "    <tr>\n",
       "      <td>4</td>\n",
       "      <td>ChIJlwzAaZktGUcR1xSkeOSzTjQ</td>\n",
       "      <td>10</td>\n",
       "      <td>0</td>\n",
       "      <td>NaN</td>\n",
       "      <td>Sunday</td>\n",
       "      <td>People typically spend 10 min here</td>\n",
       "      <td>Piekarnia Grzybki</td>\n",
       "      <td>Aleja Komisji Edukacji Narodowej 11, Warszawa</td>\n",
       "    </tr>\n",
       "  </tbody>\n",
       "</table>\n",
       "</div>"
      ],
      "text/plain": [
       "                      place_id  hour  occupancy_index occupancy_text     day  \\\n",
       "0  ChIJlwzAaZktGUcR1xSkeOSzTjQ     6                0            NaN  Sunday   \n",
       "1  ChIJlwzAaZktGUcR1xSkeOSzTjQ     7                0            NaN  Sunday   \n",
       "2  ChIJlwzAaZktGUcR1xSkeOSzTjQ     8                0            NaN  Sunday   \n",
       "3  ChIJlwzAaZktGUcR1xSkeOSzTjQ     9                0            NaN  Sunday   \n",
       "4  ChIJlwzAaZktGUcR1xSkeOSzTjQ    10                0            NaN  Sunday   \n",
       "\n",
       "                        av_time_spent               name  \\\n",
       "0  People typically spend 10 min here  Piekarnia Grzybki   \n",
       "1  People typically spend 10 min here  Piekarnia Grzybki   \n",
       "2  People typically spend 10 min here  Piekarnia Grzybki   \n",
       "3  People typically spend 10 min here  Piekarnia Grzybki   \n",
       "4  People typically spend 10 min here  Piekarnia Grzybki   \n",
       "\n",
       "                                        vicinity  \n",
       "0  Aleja Komisji Edukacji Narodowej 11, Warszawa  \n",
       "1  Aleja Komisji Edukacji Narodowej 11, Warszawa  \n",
       "2  Aleja Komisji Edukacji Narodowej 11, Warszawa  \n",
       "3  Aleja Komisji Edukacji Narodowej 11, Warszawa  \n",
       "4  Aleja Komisji Edukacji Narodowej 11, Warszawa  "
      ]
     },
     "execution_count": 3,
     "metadata": {},
     "output_type": "execute_result"
    }
   ],
   "source": [
    "merged_popular_times.head()"
   ]
  },
  {
   "cell_type": "code",
   "execution_count": 4,
   "metadata": {},
   "outputs": [
    {
     "data": {
      "text/plain": [
       "array(['People typically spend 10 min here',\n",
       "       'People typically spend 45 min to 1.5 hr here',\n",
       "       'People typically spend 15 min here',\n",
       "       'People typically spend 15 min to 1 hr here',\n",
       "       'People typically spend 15-45 min here',\n",
       "       'People typically spend 20 min here',\n",
       "       'People typically spend 25 min here',\n",
       "       'People typically spend 30 min to 1 hr here',\n",
       "       'People typically spend 20 min to 1 hr here',\n",
       "       'People typically spend 20 min to 1.5 hr here',\n",
       "       'People typically spend 30 min here',\n",
       "       'People typically spend 30 min to 1.5 hr here',\n",
       "       'People typically spend 1-3 hours here',\n",
       "       'People typically spend 1 hour here',\n",
       "       'People typically spend 25 min to 1.5 hr here',\n",
       "       'People typically spend 10-45 min here',\n",
       "       'People typically spend 20-45 min here',\n",
       "       'People typically spend 25 min to 1 hr here',\n",
       "       'People typically spend 1-2 hours here',\n",
       "       'People typically spend 15 min to 1.5 hr here',\n",
       "       'People typically spend 10 min to 1 hr here',\n",
       "       'People typically spend up to 2.5 hours here', nan,\n",
       "       'People typically spend 45 min to 2.5 hr here',\n",
       "       'People typically spend 1-2.5 hours here',\n",
       "       'People typically spend 1.5-2.5 hours here',\n",
       "       'People typically spend 45 min here',\n",
       "       'People typically spend 1.5-3 hours here',\n",
       "       'People typically spend 1.5-3.5 hours here',\n",
       "       'People typically spend 45 min to 2 hr here',\n",
       "       'People typically spend 25 min to 2 hr here',\n",
       "       'People typically spend up to 3 hours here',\n",
       "       'People typically spend 2-3.5 hours here',\n",
       "       'People typically spend 45 min to 3 hr here',\n",
       "       'People typically spend 1-5 hours here',\n",
       "       'People typically spend 1-1.5 hours here',\n",
       "       'People typically spend 15 min to 2 hr here',\n",
       "       'People typically spend 30 min to 2 hr here',\n",
       "       'People typically spend 1.5 hours here',\n",
       "       'People typically spend 5 min to 1 hr here',\n",
       "       'People typically spend 2 hours here',\n",
       "       'People typically spend 45 min to 3.5 hr here',\n",
       "       'People typically spend 1.5-2 hours here',\n",
       "       'People typically spend 45 min to 1 hr here',\n",
       "       'People typically spend up to 1.5 hours here',\n",
       "       'People typically spend 10 min to 1.5 hr here',\n",
       "       'People typically spend 1-3.5 hours here',\n",
       "       'People typically spend 20 min to 2.5 hr here',\n",
       "       'People typically spend 15 min to 2.5 hr here',\n",
       "       'People typically spend 45 min to 4 hr here',\n",
       "       'People typically spend 20 min to 2 hr here',\n",
       "       'People typically spend 15 min to 3 hr here',\n",
       "       'People typically spend 1.5-4 hours here',\n",
       "       'People typically spend 10 min to 2 hr here',\n",
       "       'People typically spend 1-4 hours here',\n",
       "       'People typically spend up to 45 min here',\n",
       "       'People typically spend 2-3 hours here',\n",
       "       'People typically spend up to 30 min here',\n",
       "       'People typically spend up to 2 hours here',\n",
       "       'People typically spend up to 1 hour here',\n",
       "       'People typically spend up to 3.5 hours here',\n",
       "       'People typically spend up to 4 hours here',\n",
       "       'People typically spend up to 25 min here',\n",
       "       'People typically spend 3.5 hours here',\n",
       "       'People typically spend 2.5 hours here',\n",
       "       'People typically spend up to 15 min here',\n",
       "       'People typically spend 2-5.5 hours here',\n",
       "       'People typically spend 45 min to 4.5 hr here',\n",
       "       'People typically spend 20 min to 3 hr here',\n",
       "       'People typically spend 25 min to 2.5 hr here',\n",
       "       'People typically spend 10 min to 2.5 hr here',\n",
       "       'People typically spend 45 min to 5 hr here',\n",
       "       'People typically spend 1-4.5 hours here',\n",
       "       'People typically spend 30 min to 3 hr here',\n",
       "       'People typically spend 25 min to 3 hr here',\n",
       "       'People typically spend up to 20 min here',\n",
       "       'People typically spend 25 min to 4.5 hr here'], dtype=object)"
      ]
     },
     "execution_count": 4,
     "metadata": {},
     "output_type": "execute_result"
    }
   ],
   "source": [
    "merged_popular_times['av_time_spent'].unique()"
   ]
  },
  {
   "cell_type": "code",
   "execution_count": 5,
   "metadata": {},
   "outputs": [],
   "source": [
    "def string_creator(digits):\n",
    "    output_string = ''\n",
    "    for d in digits:\n",
    "        output_string+= str(int(d))+' '\n",
    "        \n",
    "    return output_string[:-1]"
   ]
  },
  {
   "cell_type": "code",
   "execution_count": 6,
   "metadata": {},
   "outputs": [],
   "source": [
    "def get_time_spent(in_string):\n",
    "    if type(in_string) != str:\n",
    "        return ''\n",
    "    digits = re.findall(r\"\\d*\\.\\d+|\\d+\", in_string)\n",
    "    digits = [float(d) for d in digits]\n",
    "    #print(digits)\n",
    "    minutes_positions = [m.start() for m in re.finditer('min', in_string)]\n",
    "    hours_positions = [m.start() for m in re.finditer('hr', in_string)]\n",
    "    hours_positions += [m.start() for m in re.finditer('hours', in_string)]\n",
    "    hours_positions += [m.start() for m in re.finditer('hour', in_string)]\n",
    "    if len(minutes_positions) and len(hours_positions): #zmieszane minuty i godziny\n",
    "        if minutes_positions[0] < hours_positions[0]:\n",
    "            digits[1] = digits[1]*60\n",
    "        if minutes_positions[0] > hours_positions[0]:\n",
    "            digits[0] = digits[0]*60\n",
    "    else:\n",
    "        if len(hours_positions):\n",
    "            for i in range(len(digits)):\n",
    "                digits[i] = digits[i]*60.0\n",
    "    returned_val = string_creator(digits)\n",
    "    #try:\n",
    "    #print(in_string, returned_val, type(returned_val) )\n",
    "    #assert type(returned_val)=='str'\n",
    "    #except AssertionError as e:\n",
    "    #    print(in_string, returned_val, type(returned_val), e)\n",
    "    return returned_val"
   ]
  },
  {
   "cell_type": "code",
   "execution_count": 7,
   "metadata": {},
   "outputs": [],
   "source": [
    "merged_popular_times['av_time_spent_minutes'] = merged_popular_times['av_time_spent'].apply(get_time_spent)"
   ]
  },
  {
   "cell_type": "code",
   "execution_count": 8,
   "metadata": {},
   "outputs": [
    {
     "data": {
      "text/plain": [
       "array(['10', '45 90', '15', '15 60', '15 45', '20', '25', '30 60',\n",
       "       '20 60', '20 90', '30', '30 90', '60 180', '60', '25 90', '10 45',\n",
       "       '20 45', '25 60', '60 120', '15 90', '10 60', '150', '', '45 150',\n",
       "       '60 150', '90 150', '45', '90 180', '90 210', '45 120', '25 120',\n",
       "       '180', '120 210', '45 180', '60 300', '60 90', '15 120', '30 120',\n",
       "       '90', '5 60', '120', '45 210', '90 120', '45 60', '10 90',\n",
       "       '60 210', '20 150', '15 150', '45 240', '20 120', '15 180',\n",
       "       '90 240', '10 120', '60 240', '120 180', '210', '240', '120 330',\n",
       "       '45 270', '20 180', '25 150', '10 150', '45 300', '60 270',\n",
       "       '30 180', '25 180', '25 270'], dtype=object)"
      ]
     },
     "execution_count": 8,
     "metadata": {},
     "output_type": "execute_result"
    }
   ],
   "source": [
    "merged_popular_times['av_time_spent_minutes'].unique()"
   ]
  }
 ],
 "metadata": {
  "kernelspec": {
   "display_name": "Python 3",
   "language": "python",
   "name": "python3"
  },
  "language_info": {
   "codemirror_mode": {
    "name": "ipython",
    "version": 3
   },
   "file_extension": ".py",
   "mimetype": "text/x-python",
   "name": "python",
   "nbconvert_exporter": "python",
   "pygments_lexer": "ipython3",
   "version": "3.7.3"
  }
 },
 "nbformat": 4,
 "nbformat_minor": 2
}
