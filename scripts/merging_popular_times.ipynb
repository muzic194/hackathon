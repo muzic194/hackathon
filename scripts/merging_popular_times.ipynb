{
 "cells": [
  {
   "cell_type": "code",
   "execution_count": 1,
   "metadata": {},
   "outputs": [],
   "source": [
    "import pandas as pd"
   ]
  },
  {
   "cell_type": "code",
   "execution_count": 2,
   "metadata": {},
   "outputs": [
    {
     "name": "stdout",
     "output_type": "stream",
     "text": [
      "<class 'pandas.core.frame.DataFrame'>\n",
      "RangeIndex: 700000 entries, 0 to 699999\n",
      "Data columns (total 8 columns):\n",
      "place_id           700000 non-null object\n",
      "hour               700000 non-null int64\n",
      "occupancy_index    700000 non-null int64\n",
      "occupancy_text     284775 non-null object\n",
      "day                700000 non-null object\n",
      "av_time_spent      410637 non-null object\n",
      "name               700000 non-null object\n",
      "vicinity           699874 non-null object\n",
      "dtypes: int64(2), object(6)\n",
      "memory usage: 42.7+ MB\n"
     ]
    }
   ],
   "source": [
    "popular_times_1 = pd.read_csv('../data/popular_times_1.csv')\n",
    "popular_times_1.info()"
   ]
  },
  {
   "cell_type": "code",
   "execution_count": 3,
   "metadata": {},
   "outputs": [
    {
     "name": "stdout",
     "output_type": "stream",
     "text": [
      "<class 'pandas.core.frame.DataFrame'>\n",
      "RangeIndex: 601560 entries, 0 to 601559\n",
      "Data columns (total 8 columns):\n",
      "place_id           601560 non-null object\n",
      "hour               601560 non-null int64\n",
      "occupancy_index    601560 non-null int64\n",
      "occupancy_text     266048 non-null object\n",
      "day                601560 non-null object\n",
      "av_time_spent      431848 non-null object\n",
      "name               601560 non-null object\n",
      "vicinity           601434 non-null object\n",
      "dtypes: int64(2), object(6)\n",
      "memory usage: 36.7+ MB\n"
     ]
    }
   ],
   "source": [
    "popular_times_2 = pd.read_csv('../data/popular_times_2.csv')\n",
    "popular_times_2.info()"
   ]
  },
  {
   "cell_type": "code",
   "execution_count": 4,
   "metadata": {},
   "outputs": [
    {
     "name": "stdout",
     "output_type": "stream",
     "text": [
      "<class 'pandas.core.frame.DataFrame'>\n",
      "Int64Index: 1301560 entries, 0 to 601559\n",
      "Data columns (total 8 columns):\n",
      "place_id           1301560 non-null object\n",
      "hour               1301560 non-null int64\n",
      "occupancy_index    1301560 non-null int64\n",
      "occupancy_text     550823 non-null object\n",
      "day                1301560 non-null object\n",
      "av_time_spent      842485 non-null object\n",
      "name               1301560 non-null object\n",
      "vicinity           1301308 non-null object\n",
      "dtypes: int64(2), object(6)\n",
      "memory usage: 89.4+ MB\n"
     ]
    }
   ],
   "source": [
    "merged_popular_times = pd.concat([popular_times_1, popular_times_2])\n",
    "merged_popular_times.info()"
   ]
  },
  {
   "cell_type": "code",
   "execution_count": 7,
   "metadata": {},
   "outputs": [],
   "source": [
    "merged_popular_times.to_pickle(\"../data/merged_popular_times.pkl\")"
   ]
  },
  {
   "cell_type": "code",
   "execution_count": null,
   "metadata": {},
   "outputs": [],
   "source": []
  }
 ],
 "metadata": {
  "kernelspec": {
   "display_name": "Python 3",
   "language": "python",
   "name": "python3"
  },
  "language_info": {
   "codemirror_mode": {
    "name": "ipython",
    "version": 3
   },
   "file_extension": ".py",
   "mimetype": "text/x-python",
   "name": "python",
   "nbconvert_exporter": "python",
   "pygments_lexer": "ipython3",
   "version": "3.7.3"
  }
 },
 "nbformat": 4,
 "nbformat_minor": 2
}
